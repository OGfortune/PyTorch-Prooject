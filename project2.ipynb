{
 "cells": [
  {
   "cell_type": "code",
   "execution_count": 24,
   "metadata": {},
   "outputs": [
    {
     "name": "stdout",
     "output_type": "stream",
     "text": [
      "Path to dataset files: /Users/oghenemaluighoiye/.cache/kagglehub/datasets/samayashar/fraud-detection-transactions-dataset/versions/1\n"
     ]
    }
   ],
   "source": [
    "import kagglehub\n",
    "import os\n",
    "import pandas as pd\n",
    "\n",
    "# Download latest version\n",
    "path = kagglehub.dataset_download(\"samayashar/fraud-detection-transactions-dataset\")\n",
    "\n",
    "print(\"Path to dataset files:\", path) \n",
    " "
   ]
  },
  {
   "cell_type": "code",
   "execution_count": 25,
   "metadata": {},
   "outputs": [
    {
     "data": {
      "text/plain": [
       "['synthetic_fraud_dataset.csv']"
      ]
     },
     "execution_count": 25,
     "metadata": {},
     "output_type": "execute_result"
    }
   ],
   "source": [
    "os.listdir(path)"
   ]
  },
  {
   "cell_type": "code",
   "execution_count": 26,
   "metadata": {},
   "outputs": [],
   "source": [
    "file_path = os.path.join(path, \"synthetic_fraud_dataset.csv\")\n",
    "\n",
    "df = pd.read_csv(file_path)"
   ]
  },
  {
   "cell_type": "code",
   "execution_count": 27,
   "metadata": {},
   "outputs": [
    {
     "data": {
      "text/html": [
       "<div>\n",
       "<style scoped>\n",
       "    .dataframe tbody tr th:only-of-type {\n",
       "        vertical-align: middle;\n",
       "    }\n",
       "\n",
       "    .dataframe tbody tr th {\n",
       "        vertical-align: top;\n",
       "    }\n",
       "\n",
       "    .dataframe thead th {\n",
       "        text-align: right;\n",
       "    }\n",
       "</style>\n",
       "<table border=\"1\" class=\"dataframe\">\n",
       "  <thead>\n",
       "    <tr style=\"text-align: right;\">\n",
       "      <th></th>\n",
       "      <th>Transaction_ID</th>\n",
       "      <th>User_ID</th>\n",
       "      <th>Transaction_Amount</th>\n",
       "      <th>Transaction_Type</th>\n",
       "      <th>Timestamp</th>\n",
       "      <th>Account_Balance</th>\n",
       "      <th>Device_Type</th>\n",
       "      <th>Location</th>\n",
       "      <th>Merchant_Category</th>\n",
       "      <th>IP_Address_Flag</th>\n",
       "      <th>...</th>\n",
       "      <th>Daily_Transaction_Count</th>\n",
       "      <th>Avg_Transaction_Amount_7d</th>\n",
       "      <th>Failed_Transaction_Count_7d</th>\n",
       "      <th>Card_Type</th>\n",
       "      <th>Card_Age</th>\n",
       "      <th>Transaction_Distance</th>\n",
       "      <th>Authentication_Method</th>\n",
       "      <th>Risk_Score</th>\n",
       "      <th>Is_Weekend</th>\n",
       "      <th>Fraud_Label</th>\n",
       "    </tr>\n",
       "  </thead>\n",
       "  <tbody>\n",
       "    <tr>\n",
       "      <th>0</th>\n",
       "      <td>TXN_33553</td>\n",
       "      <td>USER_1834</td>\n",
       "      <td>39.79</td>\n",
       "      <td>POS</td>\n",
       "      <td>2023-08-14 19:30:00</td>\n",
       "      <td>93213.17</td>\n",
       "      <td>Laptop</td>\n",
       "      <td>Sydney</td>\n",
       "      <td>Travel</td>\n",
       "      <td>0</td>\n",
       "      <td>...</td>\n",
       "      <td>7</td>\n",
       "      <td>437.63</td>\n",
       "      <td>3</td>\n",
       "      <td>Amex</td>\n",
       "      <td>65</td>\n",
       "      <td>883.17</td>\n",
       "      <td>Biometric</td>\n",
       "      <td>0.8494</td>\n",
       "      <td>0</td>\n",
       "      <td>0</td>\n",
       "    </tr>\n",
       "    <tr>\n",
       "      <th>1</th>\n",
       "      <td>TXN_9427</td>\n",
       "      <td>USER_7875</td>\n",
       "      <td>1.19</td>\n",
       "      <td>Bank Transfer</td>\n",
       "      <td>2023-06-07 04:01:00</td>\n",
       "      <td>75725.25</td>\n",
       "      <td>Mobile</td>\n",
       "      <td>New York</td>\n",
       "      <td>Clothing</td>\n",
       "      <td>0</td>\n",
       "      <td>...</td>\n",
       "      <td>13</td>\n",
       "      <td>478.76</td>\n",
       "      <td>4</td>\n",
       "      <td>Mastercard</td>\n",
       "      <td>186</td>\n",
       "      <td>2203.36</td>\n",
       "      <td>Password</td>\n",
       "      <td>0.0959</td>\n",
       "      <td>0</td>\n",
       "      <td>1</td>\n",
       "    </tr>\n",
       "    <tr>\n",
       "      <th>2</th>\n",
       "      <td>TXN_199</td>\n",
       "      <td>USER_2734</td>\n",
       "      <td>28.96</td>\n",
       "      <td>Online</td>\n",
       "      <td>2023-06-20 15:25:00</td>\n",
       "      <td>1588.96</td>\n",
       "      <td>Tablet</td>\n",
       "      <td>Mumbai</td>\n",
       "      <td>Restaurants</td>\n",
       "      <td>0</td>\n",
       "      <td>...</td>\n",
       "      <td>14</td>\n",
       "      <td>50.01</td>\n",
       "      <td>4</td>\n",
       "      <td>Visa</td>\n",
       "      <td>226</td>\n",
       "      <td>1909.29</td>\n",
       "      <td>Biometric</td>\n",
       "      <td>0.8400</td>\n",
       "      <td>0</td>\n",
       "      <td>1</td>\n",
       "    </tr>\n",
       "    <tr>\n",
       "      <th>3</th>\n",
       "      <td>TXN_12447</td>\n",
       "      <td>USER_2617</td>\n",
       "      <td>254.32</td>\n",
       "      <td>ATM Withdrawal</td>\n",
       "      <td>2023-12-07 00:31:00</td>\n",
       "      <td>76807.20</td>\n",
       "      <td>Tablet</td>\n",
       "      <td>New York</td>\n",
       "      <td>Clothing</td>\n",
       "      <td>0</td>\n",
       "      <td>...</td>\n",
       "      <td>8</td>\n",
       "      <td>182.48</td>\n",
       "      <td>4</td>\n",
       "      <td>Visa</td>\n",
       "      <td>76</td>\n",
       "      <td>1311.86</td>\n",
       "      <td>OTP</td>\n",
       "      <td>0.7935</td>\n",
       "      <td>0</td>\n",
       "      <td>1</td>\n",
       "    </tr>\n",
       "    <tr>\n",
       "      <th>4</th>\n",
       "      <td>TXN_39489</td>\n",
       "      <td>USER_2014</td>\n",
       "      <td>31.28</td>\n",
       "      <td>POS</td>\n",
       "      <td>2023-11-11 23:44:00</td>\n",
       "      <td>92354.66</td>\n",
       "      <td>Mobile</td>\n",
       "      <td>Mumbai</td>\n",
       "      <td>Electronics</td>\n",
       "      <td>0</td>\n",
       "      <td>...</td>\n",
       "      <td>14</td>\n",
       "      <td>328.69</td>\n",
       "      <td>4</td>\n",
       "      <td>Mastercard</td>\n",
       "      <td>140</td>\n",
       "      <td>966.98</td>\n",
       "      <td>Password</td>\n",
       "      <td>0.3819</td>\n",
       "      <td>1</td>\n",
       "      <td>1</td>\n",
       "    </tr>\n",
       "  </tbody>\n",
       "</table>\n",
       "<p>5 rows × 21 columns</p>\n",
       "</div>"
      ],
      "text/plain": [
       "  Transaction_ID    User_ID  Transaction_Amount Transaction_Type  \\\n",
       "0      TXN_33553  USER_1834               39.79              POS   \n",
       "1       TXN_9427  USER_7875                1.19    Bank Transfer   \n",
       "2        TXN_199  USER_2734               28.96           Online   \n",
       "3      TXN_12447  USER_2617              254.32   ATM Withdrawal   \n",
       "4      TXN_39489  USER_2014               31.28              POS   \n",
       "\n",
       "             Timestamp  Account_Balance Device_Type  Location  \\\n",
       "0  2023-08-14 19:30:00         93213.17      Laptop    Sydney   \n",
       "1  2023-06-07 04:01:00         75725.25      Mobile  New York   \n",
       "2  2023-06-20 15:25:00          1588.96      Tablet    Mumbai   \n",
       "3  2023-12-07 00:31:00         76807.20      Tablet  New York   \n",
       "4  2023-11-11 23:44:00         92354.66      Mobile    Mumbai   \n",
       "\n",
       "  Merchant_Category  IP_Address_Flag  ...  Daily_Transaction_Count  \\\n",
       "0            Travel                0  ...                        7   \n",
       "1          Clothing                0  ...                       13   \n",
       "2       Restaurants                0  ...                       14   \n",
       "3          Clothing                0  ...                        8   \n",
       "4       Electronics                0  ...                       14   \n",
       "\n",
       "   Avg_Transaction_Amount_7d  Failed_Transaction_Count_7d   Card_Type  \\\n",
       "0                     437.63                            3        Amex   \n",
       "1                     478.76                            4  Mastercard   \n",
       "2                      50.01                            4        Visa   \n",
       "3                     182.48                            4        Visa   \n",
       "4                     328.69                            4  Mastercard   \n",
       "\n",
       "  Card_Age  Transaction_Distance  Authentication_Method Risk_Score  \\\n",
       "0       65                883.17              Biometric     0.8494   \n",
       "1      186               2203.36               Password     0.0959   \n",
       "2      226               1909.29              Biometric     0.8400   \n",
       "3       76               1311.86                    OTP     0.7935   \n",
       "4      140                966.98               Password     0.3819   \n",
       "\n",
       "   Is_Weekend  Fraud_Label  \n",
       "0           0            0  \n",
       "1           0            1  \n",
       "2           0            1  \n",
       "3           0            1  \n",
       "4           1            1  \n",
       "\n",
       "[5 rows x 21 columns]"
      ]
     },
     "execution_count": 27,
     "metadata": {},
     "output_type": "execute_result"
    }
   ],
   "source": [
    "df.head()"
   ]
  },
  {
   "cell_type": "code",
   "execution_count": 28,
   "metadata": {},
   "outputs": [
    {
     "data": {
      "text/plain": [
       "(50000, 21)"
      ]
     },
     "execution_count": 28,
     "metadata": {},
     "output_type": "execute_result"
    }
   ],
   "source": [
    "df.shape"
   ]
  },
  {
   "cell_type": "code",
   "execution_count": null,
   "metadata": {},
   "outputs": [
    {
     "name": "stdout",
     "output_type": "stream",
     "text": [
      "Transaction_ID: 50000\n",
      "User_ID: 50000\n",
      "Transaction_Amount: 50000\n",
      "Transaction_Type: 50000\n",
      "Timestamp: 50000\n",
      "Account_Balance: 50000\n",
      "Device_Type: 50000\n",
      "Location: 50000\n",
      "Merchant_Category: 50000\n",
      "IP_Address_Flag: 50000\n",
      "Previous_Fraudulent_Activity: 50000\n",
      "Daily_Transaction_Count: 50000\n",
      "Avg_Transaction_Amount_7d: 50000\n",
      "Failed_Transaction_Count_7d: 50000\n",
      "Card_Type: 50000\n",
      "Card_Age: 50000\n",
      "Transaction_Distance: 50000\n",
      "Authentication_Method: 50000\n",
      "Risk_Score: 50000\n",
      "Is_Weekend: 50000\n",
      "Fraud_Label: 50000\n"
     ]
    }
   ],
   "source": [
    "for column in df:\n",
    "    print(f\"{column}: {df[column].isna().count()}\")"
   ]
  },
  {
   "cell_type": "code",
   "execution_count": 33,
   "metadata": {},
   "outputs": [
    {
     "name": "stdout",
     "output_type": "stream",
     "text": [
      "Transaction_ID: 0.0\n",
      "User_ID: 0.0\n",
      "Transaction_Amount: 0.0\n",
      "Transaction_Type: 0.0\n",
      "Timestamp: 0.0\n",
      "Account_Balance: 0.0\n",
      "Device_Type: 0.0\n",
      "Location: 0.0\n",
      "Merchant_Category: 0.0\n",
      "IP_Address_Flag: 0.0\n",
      "Previous_Fraudulent_Activity: 0.0\n",
      "Daily_Transaction_Count: 0.0\n",
      "Avg_Transaction_Amount_7d: 0.0\n",
      "Failed_Transaction_Count_7d: 0.0\n",
      "Card_Type: 0.0\n",
      "Card_Age: 0.0\n",
      "Transaction_Distance: 0.0\n",
      "Authentication_Method: 0.0\n",
      "Risk_Score: 0.0\n",
      "Is_Weekend: 0.0\n",
      "Fraud_Label: 0.0\n"
     ]
    }
   ],
   "source": [
    "for column in df:\n",
    "    print(f\"{column}: {df[column].isna().mean()}\")"
   ]
  },
  {
   "cell_type": "code",
   "execution_count": 34,
   "metadata": {},
   "outputs": [
    {
     "name": "stdout",
     "output_type": "stream",
     "text": [
      "Transaction_ID: object\n",
      "User_ID: object\n",
      "Transaction_Amount: float64\n",
      "Transaction_Type: object\n",
      "Timestamp: object\n",
      "Account_Balance: float64\n",
      "Device_Type: object\n",
      "Location: object\n",
      "Merchant_Category: object\n",
      "IP_Address_Flag: int64\n",
      "Previous_Fraudulent_Activity: int64\n",
      "Daily_Transaction_Count: int64\n",
      "Avg_Transaction_Amount_7d: float64\n",
      "Failed_Transaction_Count_7d: int64\n",
      "Card_Type: object\n",
      "Card_Age: int64\n",
      "Transaction_Distance: float64\n",
      "Authentication_Method: object\n",
      "Risk_Score: float64\n",
      "Is_Weekend: int64\n",
      "Fraud_Label: int64\n"
     ]
    }
   ],
   "source": [
    "for column in df:\n",
    "    print(f\"{column}: {df[column].dtype}\")"
   ]
  },
  {
   "cell_type": "code",
   "execution_count": 36,
   "metadata": {},
   "outputs": [
    {
     "ename": "TypeError",
     "evalue": "data type 'categorical' not understood",
     "output_type": "error",
     "traceback": [
      "\u001b[0;31m---------------------------------------------------------------------------\u001b[0m",
      "\u001b[0;31mTypeError\u001b[0m                                 Traceback (most recent call last)",
      "\u001b[0;32m/var/folders/fn/l9wg2z0s1_1050p97phv554r0000gn/T/ipykernel_75035/2804774517.py\u001b[0m in \u001b[0;36m<module>\u001b[0;34m\u001b[0m\n\u001b[1;32m      1\u001b[0m \u001b[0;32mfor\u001b[0m \u001b[0mcolumn\u001b[0m \u001b[0;32min\u001b[0m \u001b[0mdf\u001b[0m\u001b[0;34m:\u001b[0m\u001b[0;34m\u001b[0m\u001b[0;34m\u001b[0m\u001b[0m\n\u001b[1;32m      2\u001b[0m     \u001b[0;32mif\u001b[0m \u001b[0mdf\u001b[0m\u001b[0;34m[\u001b[0m\u001b[0mcolumn\u001b[0m\u001b[0;34m]\u001b[0m\u001b[0;34m.\u001b[0m\u001b[0mdtype\u001b[0m \u001b[0;34m==\u001b[0m \u001b[0;34m\"object\"\u001b[0m\u001b[0;34m:\u001b[0m\u001b[0;34m\u001b[0m\u001b[0;34m\u001b[0m\u001b[0m\n\u001b[0;32m----> 3\u001b[0;31m         \u001b[0mdf\u001b[0m\u001b[0;34m[\u001b[0m\u001b[0mcolumn\u001b[0m\u001b[0;34m]\u001b[0m \u001b[0;34m=\u001b[0m \u001b[0mdf\u001b[0m\u001b[0;34m[\u001b[0m\u001b[0mcolumn\u001b[0m\u001b[0;34m]\u001b[0m\u001b[0;34m.\u001b[0m\u001b[0mastype\u001b[0m\u001b[0;34m(\u001b[0m\u001b[0;34m\"categorical\"\u001b[0m\u001b[0;34m)\u001b[0m\u001b[0;34m\u001b[0m\u001b[0;34m\u001b[0m\u001b[0m\n\u001b[0m",
      "\u001b[0;32m~/opt/anaconda3/lib/python3.9/site-packages/pandas/core/generic.py\u001b[0m in \u001b[0;36mastype\u001b[0;34m(self, dtype, copy, errors)\u001b[0m\n\u001b[1;32m   5910\u001b[0m         \u001b[0;32melse\u001b[0m\u001b[0;34m:\u001b[0m\u001b[0;34m\u001b[0m\u001b[0;34m\u001b[0m\u001b[0m\n\u001b[1;32m   5911\u001b[0m             \u001b[0;31m# else, only a single dtype is given\u001b[0m\u001b[0;34m\u001b[0m\u001b[0;34m\u001b[0m\u001b[0m\n\u001b[0;32m-> 5912\u001b[0;31m             \u001b[0mnew_data\u001b[0m \u001b[0;34m=\u001b[0m \u001b[0mself\u001b[0m\u001b[0;34m.\u001b[0m\u001b[0m_mgr\u001b[0m\u001b[0;34m.\u001b[0m\u001b[0mastype\u001b[0m\u001b[0;34m(\u001b[0m\u001b[0mdtype\u001b[0m\u001b[0;34m=\u001b[0m\u001b[0mdtype\u001b[0m\u001b[0;34m,\u001b[0m \u001b[0mcopy\u001b[0m\u001b[0;34m=\u001b[0m\u001b[0mcopy\u001b[0m\u001b[0;34m,\u001b[0m \u001b[0merrors\u001b[0m\u001b[0;34m=\u001b[0m\u001b[0merrors\u001b[0m\u001b[0;34m)\u001b[0m\u001b[0;34m\u001b[0m\u001b[0;34m\u001b[0m\u001b[0m\n\u001b[0m\u001b[1;32m   5913\u001b[0m             \u001b[0;32mreturn\u001b[0m \u001b[0mself\u001b[0m\u001b[0;34m.\u001b[0m\u001b[0m_constructor\u001b[0m\u001b[0;34m(\u001b[0m\u001b[0mnew_data\u001b[0m\u001b[0;34m)\u001b[0m\u001b[0;34m.\u001b[0m\u001b[0m__finalize__\u001b[0m\u001b[0;34m(\u001b[0m\u001b[0mself\u001b[0m\u001b[0;34m,\u001b[0m \u001b[0mmethod\u001b[0m\u001b[0;34m=\u001b[0m\u001b[0;34m\"astype\"\u001b[0m\u001b[0;34m)\u001b[0m\u001b[0;34m\u001b[0m\u001b[0;34m\u001b[0m\u001b[0m\n\u001b[1;32m   5914\u001b[0m \u001b[0;34m\u001b[0m\u001b[0m\n",
      "\u001b[0;32m~/opt/anaconda3/lib/python3.9/site-packages/pandas/core/internals/managers.py\u001b[0m in \u001b[0;36mastype\u001b[0;34m(self, dtype, copy, errors)\u001b[0m\n\u001b[1;32m    417\u001b[0m \u001b[0;34m\u001b[0m\u001b[0m\n\u001b[1;32m    418\u001b[0m     \u001b[0;32mdef\u001b[0m \u001b[0mastype\u001b[0m\u001b[0;34m(\u001b[0m\u001b[0mself\u001b[0m\u001b[0;34m:\u001b[0m \u001b[0mT\u001b[0m\u001b[0;34m,\u001b[0m \u001b[0mdtype\u001b[0m\u001b[0;34m,\u001b[0m \u001b[0mcopy\u001b[0m\u001b[0;34m:\u001b[0m \u001b[0mbool\u001b[0m \u001b[0;34m=\u001b[0m \u001b[0;32mFalse\u001b[0m\u001b[0;34m,\u001b[0m \u001b[0merrors\u001b[0m\u001b[0;34m:\u001b[0m \u001b[0mstr\u001b[0m \u001b[0;34m=\u001b[0m \u001b[0;34m\"raise\"\u001b[0m\u001b[0;34m)\u001b[0m \u001b[0;34m->\u001b[0m \u001b[0mT\u001b[0m\u001b[0;34m:\u001b[0m\u001b[0;34m\u001b[0m\u001b[0;34m\u001b[0m\u001b[0m\n\u001b[0;32m--> 419\u001b[0;31m         \u001b[0;32mreturn\u001b[0m \u001b[0mself\u001b[0m\u001b[0;34m.\u001b[0m\u001b[0mapply\u001b[0m\u001b[0;34m(\u001b[0m\u001b[0;34m\"astype\"\u001b[0m\u001b[0;34m,\u001b[0m \u001b[0mdtype\u001b[0m\u001b[0;34m=\u001b[0m\u001b[0mdtype\u001b[0m\u001b[0;34m,\u001b[0m \u001b[0mcopy\u001b[0m\u001b[0;34m=\u001b[0m\u001b[0mcopy\u001b[0m\u001b[0;34m,\u001b[0m \u001b[0merrors\u001b[0m\u001b[0;34m=\u001b[0m\u001b[0merrors\u001b[0m\u001b[0;34m)\u001b[0m\u001b[0;34m\u001b[0m\u001b[0;34m\u001b[0m\u001b[0m\n\u001b[0m\u001b[1;32m    420\u001b[0m \u001b[0;34m\u001b[0m\u001b[0m\n\u001b[1;32m    421\u001b[0m     def convert(\n",
      "\u001b[0;32m~/opt/anaconda3/lib/python3.9/site-packages/pandas/core/internals/managers.py\u001b[0m in \u001b[0;36mapply\u001b[0;34m(self, f, align_keys, ignore_failures, **kwargs)\u001b[0m\n\u001b[1;32m    302\u001b[0m                     \u001b[0mapplied\u001b[0m \u001b[0;34m=\u001b[0m \u001b[0mb\u001b[0m\u001b[0;34m.\u001b[0m\u001b[0mapply\u001b[0m\u001b[0;34m(\u001b[0m\u001b[0mf\u001b[0m\u001b[0;34m,\u001b[0m \u001b[0;34m**\u001b[0m\u001b[0mkwargs\u001b[0m\u001b[0;34m)\u001b[0m\u001b[0;34m\u001b[0m\u001b[0;34m\u001b[0m\u001b[0m\n\u001b[1;32m    303\u001b[0m                 \u001b[0;32melse\u001b[0m\u001b[0;34m:\u001b[0m\u001b[0;34m\u001b[0m\u001b[0;34m\u001b[0m\u001b[0m\n\u001b[0;32m--> 304\u001b[0;31m                     \u001b[0mapplied\u001b[0m \u001b[0;34m=\u001b[0m \u001b[0mgetattr\u001b[0m\u001b[0;34m(\u001b[0m\u001b[0mb\u001b[0m\u001b[0;34m,\u001b[0m \u001b[0mf\u001b[0m\u001b[0;34m)\u001b[0m\u001b[0;34m(\u001b[0m\u001b[0;34m**\u001b[0m\u001b[0mkwargs\u001b[0m\u001b[0;34m)\u001b[0m\u001b[0;34m\u001b[0m\u001b[0;34m\u001b[0m\u001b[0m\n\u001b[0m\u001b[1;32m    305\u001b[0m             \u001b[0;32mexcept\u001b[0m \u001b[0;34m(\u001b[0m\u001b[0mTypeError\u001b[0m\u001b[0;34m,\u001b[0m \u001b[0mNotImplementedError\u001b[0m\u001b[0;34m)\u001b[0m\u001b[0;34m:\u001b[0m\u001b[0;34m\u001b[0m\u001b[0;34m\u001b[0m\u001b[0m\n\u001b[1;32m    306\u001b[0m                 \u001b[0;32mif\u001b[0m \u001b[0;32mnot\u001b[0m \u001b[0mignore_failures\u001b[0m\u001b[0;34m:\u001b[0m\u001b[0;34m\u001b[0m\u001b[0;34m\u001b[0m\u001b[0m\n",
      "\u001b[0;32m~/opt/anaconda3/lib/python3.9/site-packages/pandas/core/internals/blocks.py\u001b[0m in \u001b[0;36mastype\u001b[0;34m(self, dtype, copy, errors)\u001b[0m\n\u001b[1;32m    578\u001b[0m         \u001b[0mvalues\u001b[0m \u001b[0;34m=\u001b[0m \u001b[0mself\u001b[0m\u001b[0;34m.\u001b[0m\u001b[0mvalues\u001b[0m\u001b[0;34m\u001b[0m\u001b[0;34m\u001b[0m\u001b[0m\n\u001b[1;32m    579\u001b[0m \u001b[0;34m\u001b[0m\u001b[0m\n\u001b[0;32m--> 580\u001b[0;31m         \u001b[0mnew_values\u001b[0m \u001b[0;34m=\u001b[0m \u001b[0mastype_array_safe\u001b[0m\u001b[0;34m(\u001b[0m\u001b[0mvalues\u001b[0m\u001b[0;34m,\u001b[0m \u001b[0mdtype\u001b[0m\u001b[0;34m,\u001b[0m \u001b[0mcopy\u001b[0m\u001b[0;34m=\u001b[0m\u001b[0mcopy\u001b[0m\u001b[0;34m,\u001b[0m \u001b[0merrors\u001b[0m\u001b[0;34m=\u001b[0m\u001b[0merrors\u001b[0m\u001b[0;34m)\u001b[0m\u001b[0;34m\u001b[0m\u001b[0;34m\u001b[0m\u001b[0m\n\u001b[0m\u001b[1;32m    581\u001b[0m \u001b[0;34m\u001b[0m\u001b[0m\n\u001b[1;32m    582\u001b[0m         \u001b[0mnew_values\u001b[0m \u001b[0;34m=\u001b[0m \u001b[0mmaybe_coerce_values\u001b[0m\u001b[0;34m(\u001b[0m\u001b[0mnew_values\u001b[0m\u001b[0;34m)\u001b[0m\u001b[0;34m\u001b[0m\u001b[0;34m\u001b[0m\u001b[0m\n",
      "\u001b[0;32m~/opt/anaconda3/lib/python3.9/site-packages/pandas/core/dtypes/cast.py\u001b[0m in \u001b[0;36mastype_array_safe\u001b[0;34m(values, dtype, copy, errors)\u001b[0m\n\u001b[1;32m   1284\u001b[0m         \u001b[0;32mraise\u001b[0m \u001b[0mTypeError\u001b[0m\u001b[0;34m(\u001b[0m\u001b[0mmsg\u001b[0m\u001b[0;34m)\u001b[0m\u001b[0;34m\u001b[0m\u001b[0;34m\u001b[0m\u001b[0m\n\u001b[1;32m   1285\u001b[0m \u001b[0;34m\u001b[0m\u001b[0m\n\u001b[0;32m-> 1286\u001b[0;31m     \u001b[0mdtype\u001b[0m \u001b[0;34m=\u001b[0m \u001b[0mpandas_dtype\u001b[0m\u001b[0;34m(\u001b[0m\u001b[0mdtype\u001b[0m\u001b[0;34m)\u001b[0m\u001b[0;34m\u001b[0m\u001b[0;34m\u001b[0m\u001b[0m\n\u001b[0m\u001b[1;32m   1287\u001b[0m     \u001b[0;32mif\u001b[0m \u001b[0misinstance\u001b[0m\u001b[0;34m(\u001b[0m\u001b[0mdtype\u001b[0m\u001b[0;34m,\u001b[0m \u001b[0mPandasDtype\u001b[0m\u001b[0;34m)\u001b[0m\u001b[0;34m:\u001b[0m\u001b[0;34m\u001b[0m\u001b[0;34m\u001b[0m\u001b[0m\n\u001b[1;32m   1288\u001b[0m         \u001b[0;31m# Ensure we don't end up with a PandasArray\u001b[0m\u001b[0;34m\u001b[0m\u001b[0;34m\u001b[0m\u001b[0m\n",
      "\u001b[0;32m~/opt/anaconda3/lib/python3.9/site-packages/pandas/core/dtypes/common.py\u001b[0m in \u001b[0;36mpandas_dtype\u001b[0;34m(dtype)\u001b[0m\n\u001b[1;32m   1775\u001b[0m     \u001b[0;31m# raise a consistent TypeError if failed\u001b[0m\u001b[0;34m\u001b[0m\u001b[0;34m\u001b[0m\u001b[0m\n\u001b[1;32m   1776\u001b[0m     \u001b[0;32mtry\u001b[0m\u001b[0;34m:\u001b[0m\u001b[0;34m\u001b[0m\u001b[0;34m\u001b[0m\u001b[0m\n\u001b[0;32m-> 1777\u001b[0;31m         \u001b[0mnpdtype\u001b[0m \u001b[0;34m=\u001b[0m \u001b[0mnp\u001b[0m\u001b[0;34m.\u001b[0m\u001b[0mdtype\u001b[0m\u001b[0;34m(\u001b[0m\u001b[0mdtype\u001b[0m\u001b[0;34m)\u001b[0m\u001b[0;34m\u001b[0m\u001b[0;34m\u001b[0m\u001b[0m\n\u001b[0m\u001b[1;32m   1778\u001b[0m     \u001b[0;32mexcept\u001b[0m \u001b[0mSyntaxError\u001b[0m \u001b[0;32mas\u001b[0m \u001b[0merr\u001b[0m\u001b[0;34m:\u001b[0m\u001b[0;34m\u001b[0m\u001b[0;34m\u001b[0m\u001b[0m\n\u001b[1;32m   1779\u001b[0m         \u001b[0;31m# np.dtype uses `eval` which can raise SyntaxError\u001b[0m\u001b[0;34m\u001b[0m\u001b[0;34m\u001b[0m\u001b[0m\n",
      "\u001b[0;31mTypeError\u001b[0m: data type 'categorical' not understood"
     ]
    }
   ],
   "source": [
    "for column in df:\n",
    "    if df[column].dtype == \"object\":\n",
    "        df[column] = df[column].astype(\"categorical\")"
   ]
  },
  {
   "cell_type": "code",
   "execution_count": 37,
   "metadata": {},
   "outputs": [],
   "source": [
    "for column in df.columns:\n",
    "    if df[column].dtype == \"object\":\n",
    "        df[column] = df[column].astype(\"category\")"
   ]
  },
  {
   "cell_type": "code",
   "execution_count": 38,
   "metadata": {},
   "outputs": [],
   "source": [
    "df[\"Timestamp\"] = pd.to_datetime(df[\"Timestamp\"])"
   ]
  },
  {
   "cell_type": "code",
   "execution_count": 42,
   "metadata": {},
   "outputs": [],
   "source": [
    "\n",
    "df[\"Day\"] = df[\"Timestamp\"].map(lambda x: x.day)\n",
    "df[\"Month\"] = df[\"Timestamp\"].map(lambda x: x.month)\n",
    "df[\"Year\"] = df[\"Timestamp\"].map(lambda x: x.year)\n",
    "df[\"Hour\"] = df[\"Timestamp\"].map(lambda x: x.hour)"
   ]
  },
  {
   "cell_type": "code",
   "execution_count": 43,
   "metadata": {},
   "outputs": [
    {
     "data": {
      "text/plain": [
       "0        19\n",
       "1         4\n",
       "2        15\n",
       "3         0\n",
       "4        23\n",
       "         ..\n",
       "49995    18\n",
       "49996     8\n",
       "49997    19\n",
       "49998    19\n",
       "49999    23\n",
       "Name: Hour, Length: 50000, dtype: int64"
      ]
     },
     "execution_count": 43,
     "metadata": {},
     "output_type": "execute_result"
    }
   ],
   "source": [
    "df[\"Hour\"]"
   ]
  },
  {
   "cell_type": "code",
   "execution_count": null,
   "metadata": {},
   "outputs": [],
   "source": []
  }
 ],
 "metadata": {
  "kernelspec": {
   "display_name": "base",
   "language": "python",
   "name": "python3"
  },
  "language_info": {
   "codemirror_mode": {
    "name": "ipython",
    "version": 3
   },
   "file_extension": ".py",
   "mimetype": "text/x-python",
   "name": "python",
   "nbconvert_exporter": "python",
   "pygments_lexer": "ipython3",
   "version": "3.9.13"
  }
 },
 "nbformat": 4,
 "nbformat_minor": 2
}
